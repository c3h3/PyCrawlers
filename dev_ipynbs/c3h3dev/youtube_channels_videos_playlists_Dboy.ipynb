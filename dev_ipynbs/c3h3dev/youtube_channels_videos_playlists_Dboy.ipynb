{
 "metadata": {
  "name": "",
  "signature": "sha256:0e1515247b18390e53d74f662dfdf19f16c878e7bf140842d9eb49f346a8d219"
 },
 "nbformat": 3,
 "nbformat_minor": 0,
 "worksheets": [
  {
   "cells": [
    {
     "cell_type": "code",
     "collapsed": false,
     "input": [
      "import requests\n",
      "try:\n",
      "    import ujson as json \n",
      "except:\n",
      "    import json"
     ],
     "language": "python",
     "metadata": {},
     "outputs": [],
     "prompt_number": 1
    },
    {
     "cell_type": "code",
     "collapsed": false,
     "input": [
      "import pymongo"
     ],
     "language": "python",
     "metadata": {},
     "outputs": [],
     "prompt_number": 2
    },
    {
     "cell_type": "code",
     "collapsed": false,
     "input": [
      "!sh /Users/DboyLiao/Documents/Python_Learning/PyCrawlers/startMongod.sh"
     ],
     "language": "python",
     "metadata": {},
     "outputs": [
      {
       "output_type": "stream",
       "stream": "stdout",
       "text": [
        "about to fork child process, waiting until server is ready for connections.\r\n",
        "forked process: 3282\r\n"
       ]
      },
      {
       "output_type": "stream",
       "stream": "stdout",
       "text": [
        "child process started successfully, parent exiting\r\n"
       ]
      }
     ],
     "prompt_number": 16
    },
    {
     "cell_type": "code",
     "collapsed": false,
     "input": [
      "client = pymongo.MongoClient(\"localhost\", 27100)\n",
      "TWusRgroup = client[\"TWusRgroup\"]"
     ],
     "language": "python",
     "metadata": {},
     "outputs": [],
     "prompt_number": 4
    },
    {
     "cell_type": "code",
     "collapsed": false,
     "input": [
      "class YoutubeChannelOpenData(object):\n",
      "    def __init__(self, channel_id, datatype = \"json\"):\n",
      "        assert datatype in [\"xml\", \"json\"], 'datatype must in [\"xml\", \"json\"]'        \n",
      "        self.channel_id = channel_id\n",
      "        self.datatype = datatype\n",
      "        \n",
      "    def get_data(self, datafeed_url, params = {}, key = None):\n",
      "        if self.datatype == \"json\":\n",
      "            params[\"alt\"] = \"json\"\n",
      "            r = requests.get(datafeed_url, params = params)\n",
      "            if key == None:\n",
      "                return json.loads(r.text)\n",
      "            else:\n",
      "                return json.loads(r.text)[key]\n",
      "        else:\n",
      "            if key == None:\n",
      "                return requests.get(datafeed_url, params)\n",
      "            else:\n",
      "                return requests.get(datafeed_url, params)\n",
      "\n",
      "    @property\n",
      "    def base_url(self):\n",
      "        return \"https://gdata.youtube.com/feeds/users/{channel_id}/\".format(channel_id=self.channel_id)\n",
      "    \n",
      "    @property\n",
      "    def playlist_url(self):\n",
      "        return \"https://gdata.youtube.com/feeds/users/{channel_id}/playlists/\".format(channel_id=self.channel_id)\n",
      "    \n",
      "    @property\n",
      "    def uploads_url(self):\n",
      "        return \"https://gdata.youtube.com/feeds/users/{channel_id}/uploads/\".format(channel_id=self.channel_id)"
     ],
     "language": "python",
     "metadata": {},
     "outputs": [],
     "prompt_number": 5
    },
    {
     "cell_type": "code",
     "collapsed": false,
     "input": [
      "twusergroup = YoutubeChannelOpenData(\"TWuseRGroup\")"
     ],
     "language": "python",
     "metadata": {},
     "outputs": [],
     "prompt_number": 6
    },
    {
     "cell_type": "code",
     "collapsed": false,
     "input": [
      "data_feed = twusergroup.get_data(twusergroup.uploads_url, {}, \"feed\")"
     ],
     "language": "python",
     "metadata": {},
     "outputs": [],
     "prompt_number": 7
    },
    {
     "cell_type": "code",
     "collapsed": false,
     "input": [
      "playlist_urls = [data_feed[\"link\"][4][\"href\"], data_feed[\"link\"][5][\"href\"]]"
     ],
     "language": "python",
     "metadata": {},
     "outputs": [],
     "prompt_number": 8
    },
    {
     "cell_type": "code",
     "collapsed": false,
     "input": [
      "playlist_urls"
     ],
     "language": "python",
     "metadata": {},
     "outputs": [
      {
       "metadata": {},
       "output_type": "pyout",
       "prompt_number": 9,
       "text": [
        "[u'https://gdata.youtube.com/feeds/users/TWuseRGroup/uploads?alt=json&start-index=1&max-results=25',\n",
        " u'https://gdata.youtube.com/feeds/users/TWuseRGroup/uploads?alt=json&start-index=26&max-results=25']"
       ]
      }
     ],
     "prompt_number": 9
    },
    {
     "cell_type": "code",
     "collapsed": false,
     "input": [
      "empty = False\n",
      "while not empty:\n",
      "    temp_data = twusergroup.get_data(playlist_urls[-1], {}, \"feed\")\n",
      "    checking_list = []\n",
      "    for item in temp_data[\"link\"]:\n",
      "        checking_list.append(item[\"rel\"]) \n",
      "    if \"next\" in checking_list:\n",
      "        ind = checking_list.index(\"next\")\n",
      "        playlist_urls.append(temp_data[\"link\"][ind][\"href\"])\n",
      "    else:\n",
      "        empty = True"
     ],
     "language": "python",
     "metadata": {},
     "outputs": [],
     "prompt_number": 10
    },
    {
     "cell_type": "code",
     "collapsed": false,
     "input": [
      "playlist_urls"
     ],
     "language": "python",
     "metadata": {},
     "outputs": [
      {
       "metadata": {},
       "output_type": "pyout",
       "prompt_number": 11,
       "text": [
        "[u'https://gdata.youtube.com/feeds/users/TWuseRGroup/uploads?alt=json&start-index=1&max-results=25',\n",
        " u'https://gdata.youtube.com/feeds/users/TWuseRGroup/uploads?alt=json&start-index=26&max-results=25',\n",
        " u'https://gdata.youtube.com/feeds/users/TWuseRGroup/uploads?alt=json&start-index=51&max-results=25',\n",
        " u'https://gdata.youtube.com/feeds/users/TWuseRGroup/uploads?alt=json&start-index=76&max-results=25',\n",
        " u'https://gdata.youtube.com/feeds/users/TWuseRGroup/uploads?alt=json&start-index=101&max-results=25',\n",
        " u'https://gdata.youtube.com/feeds/users/TWuseRGroup/uploads?alt=json&start-index=126&max-results=25',\n",
        " u'https://gdata.youtube.com/feeds/users/TWuseRGroup/uploads?alt=json&start-index=151&max-results=25',\n",
        " u'https://gdata.youtube.com/feeds/users/TWuseRGroup/uploads?alt=json&start-index=176&max-results=25',\n",
        " u'https://gdata.youtube.com/feeds/users/TWuseRGroup/uploads?alt=json&start-index=201&max-results=25',\n",
        " u'https://gdata.youtube.com/feeds/users/TWuseRGroup/uploads?alt=json&start-index=226&max-results=25']"
       ]
      }
     ],
     "prompt_number": 11
    },
    {
     "cell_type": "code",
     "collapsed": false,
     "input": [
      "TWusRgroup.uploads_list_urls.drop()\n",
      "insert_object = {\"urls\":playlist_urls}\n",
      "TWusRgroup.uploads_list_urls.insert(insert_object)"
     ],
     "language": "python",
     "metadata": {},
     "outputs": [
      {
       "metadata": {},
       "output_type": "pyout",
       "prompt_number": 12,
       "text": [
        "ObjectId('54252c450240ac0cc154e054')"
       ]
      }
     ],
     "prompt_number": 12
    },
    {
     "cell_type": "code",
     "collapsed": false,
     "input": [
      "TWusRgroup.vedio_urls.drop()\n",
      "for uploads_list_url in playlist_urls:\n",
      "    temp_data = twusergroup.get_data(uploads_list_url, {}, \"feed\")\n",
      "    for media_list in temp_data[\"entry\"]:\n",
      "        url = media_list[\"media$group\"][\"media$player\"][0][\"url\"]\n",
      "        start_ind = url.find(\"v=\")\n",
      "        end_ind = url.find(\"&feature\")\n",
      "        url_id = url[start_ind + 2:end_ind]\n",
      "        json_obj = {\"_id\": url_id, \"url\": url}\n",
      "        TWusRgroup.vedio_urls.insert(json_obj)"
     ],
     "language": "python",
     "metadata": {},
     "outputs": [],
     "prompt_number": 13
    },
    {
     "cell_type": "code",
     "collapsed": false,
     "input": [
      "TWusRgroup.vedio_urls.find().count()"
     ],
     "language": "python",
     "metadata": {},
     "outputs": [
      {
       "metadata": {},
       "output_type": "pyout",
       "prompt_number": 14,
       "text": [
        "237"
       ]
      }
     ],
     "prompt_number": 14
    },
    {
     "cell_type": "code",
     "collapsed": false,
     "input": [],
     "language": "python",
     "metadata": {},
     "outputs": []
    },
    {
     "cell_type": "code",
     "collapsed": false,
     "input": [
      "! pkill -f mongod"
     ],
     "language": "python",
     "metadata": {},
     "outputs": [],
     "prompt_number": 19
    },
    {
     "cell_type": "code",
     "collapsed": false,
     "input": [],
     "language": "python",
     "metadata": {},
     "outputs": []
    }
   ],
   "metadata": {}
  }
 ]
}